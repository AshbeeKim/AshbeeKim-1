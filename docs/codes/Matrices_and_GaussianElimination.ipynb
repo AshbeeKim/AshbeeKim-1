{
  "nbformat": 4,
  "nbformat_minor": 0,
  "metadata": {
    "colab": {
      "name": "Matrices_and_GaussianElimination.ipynb",
      "provenance": [],
      "collapsed_sections": [],
      "authorship_tag": "ABX9TyM9w67WwYbeqj2ajywrM7LL"
    },
    "kernelspec": {
      "name": "python3",
      "display_name": "Python 3"
    },
    "language_info": {
      "name": "python"
    },
    "accelerator": "GPU"
  },
  "cells": [
    {
      "cell_type": "code",
      "metadata": {
        "colab": {
          "base_uri": "https://localhost:8080/"
        },
        "id": "szIGh9IndWr8",
        "outputId": "07d6cd91-cf81-4179-de07-d0c5e8da1da9"
      },
      "source": [
        "# 간단 연산 파이썬 기본 라이브러리\n",
        "import math, cmath\n",
        "\n",
        "# 중등과정 함수, 배열 ~ (사실 내용이 너무 많아서 어디까지 활용이 가능한지 모르겠음)\n",
        "# 무슨 행렬로 할 수 있는 연산 관련 라이브러리\n",
        "# scipy vs. numpy vs. sympy\n",
        "# scipy, numpy ; 데이터 필수!!!\n",
        "import numpy as np\n",
        "\n",
        "# 수학 관련 라이브러리\n",
        "from sympy import *\n",
        "# 데이터 없어도 가능함\n",
        "\n",
        "# visualizing\n",
        "import matplotlib.pyplot as plt\n",
        "%matplotlib inline\n"
      ],
      "execution_count": 2,
      "outputs": [
        {
          "output_type": "stream",
          "name": "stdout",
          "text": [
            "Using matplotlib backend: agg\n"
          ]
        }
      ]
    },
    {
      "cell_type": "markdown",
      "metadata": {
        "id": "UAOqP0n_gCwN"
      },
      "source": [
        "[sympy matrix](https://docs.sympy.org/latest/modules/matrices/matrices.html)\n",
        "\n",
        "live shell을 제공하기 때문에, 실시간으로 코드 확인 가능"
      ]
    },
    {
      "cell_type": "markdown",
      "metadata": {
        "id": "D8NiJ4S4lckW"
      },
      "source": [
        "# init"
      ]
    },
    {
      "cell_type": "code",
      "metadata": {
        "id": "rekGmG6Gfi5L"
      },
      "source": [
        "from sympy.interactive.printing import init_printing\n",
        "# 행렬식 출력 방식에 따라, ipynb에서 sympy 쓰임의 목적이 드러남 # 아직까지는 큰 차이를 모르겠음\n",
        "init_printing()\n",
        "# init_printing(use_latex='mathjax')\n",
        "# init_printing(use_unicode=False, wrap_line=False) # default : None\n",
        "# init_printing(use_unicode=False, wrap_line=False, no_global=True)\n",
        "\n",
        "# symbols\n",
        "# tag placeholder\n",
        "X = symbols('x')\n",
        "Y, Z = symbols('y z')  # 공백으로 구분\n",
        "from sympy.abc import u, v, w, t, r\n",
        "k, m, n = symbols('k m n', integer=True)\n",
        "f, g, h = symbols('f g h', cls=Function)\n",
        "\n",
        "from sympy.matrices import Matrix, eye, zeros, ones, diag#, GramSchmidt # vertor마다 정규화, 직교\n",
        "# # matrices\n",
        "# A = Matrix()\n",
        "# B = Matrix()\n",
        "\n",
        "# Identity\n",
        "I = Identity(3)\n",
        "\n",
        "# MatrixSymbol\n",
        "Msym = MatrixSymbol('M', 3, 3)"
      ],
      "execution_count": 3,
      "outputs": []
    },
    {
      "cell_type": "code",
      "metadata": {
        "colab": {
          "base_uri": "https://localhost:8080/",
          "height": 78
        },
        "id": "2fpUr8ksCNy4",
        "outputId": "2ff33216-8af6-4ab1-e92f-dba3e95066f2"
      },
      "source": [
        "I.as_explicit()"
      ],
      "execution_count": 5,
      "outputs": [
        {
          "output_type": "execute_result",
          "data": {
            "text/latex": "$\\displaystyle \\left[\\begin{matrix}1 & 0 & 0\\\\0 & 1 & 0\\\\0 & 0 & 1\\end{matrix}\\right]$",
            "text/plain": [
              "⎡1  0  0⎤\n",
              "⎢       ⎥\n",
              "⎢0  1  0⎥\n",
              "⎢       ⎥\n",
              "⎣0  0  1⎦"
            ]
          },
          "metadata": {},
          "execution_count": 5
        }
      ]
    },
    {
      "cell_type": "code",
      "metadata": {
        "colab": {
          "base_uri": "https://localhost:8080/",
          "height": 78
        },
        "id": "jrqAEUM-FP_U",
        "outputId": "c88c44cf-561e-495b-e5c8-3b49eb8d2ad4"
      },
      "source": [
        "(I.as_mutable()).T"
      ],
      "execution_count": 9,
      "outputs": [
        {
          "output_type": "execute_result",
          "data": {
            "text/latex": "$\\displaystyle \\left[\\begin{matrix}1 & 0 & 0\\\\0 & 1 & 0\\\\0 & 0 & 1\\end{matrix}\\right]$",
            "text/plain": [
              "⎡1  0  0⎤\n",
              "⎢       ⎥\n",
              "⎢0  1  0⎥\n",
              "⎢       ⎥\n",
              "⎣0  0  1⎦"
            ]
          },
          "metadata": {},
          "execution_count": 9
        }
      ]
    },
    {
      "cell_type": "code",
      "metadata": {
        "colab": {
          "base_uri": "https://localhost:8080/",
          "height": 58
        },
        "id": "sYzNlOxwsrdB",
        "outputId": "baa93b5b-c075-43ba-83e1-266d37fcc522"
      },
      "source": [
        "M = Matrix([[1,0,0],[0,0,0]]) ; M"
      ],
      "execution_count": 13,
      "outputs": [
        {
          "output_type": "execute_result",
          "data": {
            "text/latex": "$\\displaystyle \\left[\\begin{matrix}1 & 0 & 0\\\\0 & 0 & 0\\end{matrix}\\right]$",
            "text/plain": [
              "⎡1  0  0⎤\n",
              "⎢       ⎥\n",
              "⎣0  0  0⎦"
            ]
          },
          "metadata": {},
          "execution_count": 13
        }
      ]
    },
    {
      "cell_type": "code",
      "metadata": {
        "colab": {
          "base_uri": "https://localhost:8080/",
          "height": 78
        },
        "id": "DcNQEk5qs83X",
        "outputId": "88db9fec-e3ce-483b-fe5b-60695a96e2be"
      },
      "source": [
        "Matrix([M, (0,0,-1)])"
      ],
      "execution_count": 16,
      "outputs": [
        {
          "output_type": "execute_result",
          "data": {
            "text/latex": "$\\displaystyle \\left[\\begin{matrix}1 & 0 & 0\\\\0 & 0 & 0\\\\0 & 0 & -1\\end{matrix}\\right]$",
            "text/plain": [
              "⎡1  0  0 ⎤\n",
              "⎢        ⎥\n",
              "⎢0  0  0 ⎥\n",
              "⎢        ⎥\n",
              "⎣0  0  -1⎦"
            ]
          },
          "metadata": {},
          "execution_count": 16
        }
      ]
    },
    {
      "cell_type": "code",
      "metadata": {
        "colab": {
          "base_uri": "https://localhost:8080/",
          "height": 78
        },
        "id": "T-Awg0Gvtr0Q",
        "outputId": "487577af-0b20-4359-c254-8a50df185100"
      },
      "source": [
        "Matrix([1, 2, 3])"
      ],
      "execution_count": 17,
      "outputs": [
        {
          "output_type": "execute_result",
          "data": {
            "text/latex": "$\\displaystyle \\left[\\begin{matrix}1\\\\2\\\\3\\end{matrix}\\right]$",
            "text/plain": [
              "⎡1⎤\n",
              "⎢ ⎥\n",
              "⎢2⎥\n",
              "⎢ ⎥\n",
              "⎣3⎦"
            ]
          },
          "metadata": {},
          "execution_count": 17
        }
      ]
    },
    {
      "cell_type": "code",
      "metadata": {
        "colab": {
          "base_uri": "https://localhost:8080/",
          "height": 38
        },
        "id": "7n7XE4MntyZC",
        "outputId": "6f504661-d74c-4c40-87c2-0899ae92280b"
      },
      "source": [
        "Matrix([1, 2, 3]).T"
      ],
      "execution_count": 18,
      "outputs": [
        {
          "output_type": "execute_result",
          "data": {
            "text/latex": "$\\displaystyle \\left[\\begin{matrix}1 & 2 & 3\\end{matrix}\\right]$",
            "text/plain": [
              "[1  2  3]"
            ]
          },
          "metadata": {},
          "execution_count": 18
        }
      ]
    },
    {
      "cell_type": "markdown",
      "metadata": {
        "id": "NPRRg2UFpyty"
      },
      "source": [
        "# Determinants"
      ]
    },
    {
      "cell_type": "code",
      "metadata": {
        "colab": {
          "base_uri": "https://localhost:8080/",
          "height": 78
        },
        "id": "-8Mj4LlFv-x9",
        "outputId": "1ff6b86c-1734-41f0-9870-f2e3928c636f"
      },
      "source": [
        "sympify(Matrix([M, (0,0,-1)]))"
      ],
      "execution_count": 24,
      "outputs": [
        {
          "output_type": "execute_result",
          "data": {
            "text/latex": "$\\displaystyle \\left[\\begin{matrix}1 & 0 & 0\\\\0 & 0 & 0\\\\0 & 0 & -1\\end{matrix}\\right]$",
            "text/plain": [
              "⎡1  0  0 ⎤\n",
              "⎢        ⎥\n",
              "⎢0  0  0 ⎥\n",
              "⎢        ⎥\n",
              "⎣0  0  -1⎦"
            ]
          },
          "metadata": {},
          "execution_count": 24
        }
      ]
    },
    {
      "cell_type": "code",
      "metadata": {
        "colab": {
          "base_uri": "https://localhost:8080/",
          "height": 338
        },
        "id": "g2OiScatud-M",
        "outputId": "23af82ab-c322-441a-8f24-b4ab4a027d96"
      },
      "source": [
        "# sympify : function to LaTex, string to LaTex\n",
        "sympify(Matrix([M, (0,0,-1)]).inv())"
      ],
      "execution_count": 23,
      "outputs": [
        {
          "output_type": "error",
          "ename": "NonInvertibleMatrixError",
          "evalue": "ignored",
          "traceback": [
            "\u001b[0;31m---------------------------------------------------------------------------\u001b[0m",
            "\u001b[0;31mNonInvertibleMatrixError\u001b[0m                  Traceback (most recent call last)",
            "\u001b[0;32m<ipython-input-23-faf959e0671f>\u001b[0m in \u001b[0;36m<module>\u001b[0;34m()\u001b[0m\n\u001b[1;32m      1\u001b[0m \u001b[0;31m# sympify : function to LaTex, string to LaTex\u001b[0m\u001b[0;34m\u001b[0m\u001b[0;34m\u001b[0m\u001b[0;34m\u001b[0m\u001b[0m\n\u001b[1;32m      2\u001b[0m \u001b[0;34m\u001b[0m\u001b[0m\n\u001b[0;32m----> 3\u001b[0;31m \u001b[0msympify\u001b[0m\u001b[0;34m(\u001b[0m\u001b[0mMatrix\u001b[0m\u001b[0;34m(\u001b[0m\u001b[0;34m[\u001b[0m\u001b[0mM\u001b[0m\u001b[0;34m,\u001b[0m \u001b[0;34m(\u001b[0m\u001b[0;36m0\u001b[0m\u001b[0;34m,\u001b[0m\u001b[0;36m0\u001b[0m\u001b[0;34m,\u001b[0m\u001b[0;34m-\u001b[0m\u001b[0;36m1\u001b[0m\u001b[0;34m)\u001b[0m\u001b[0;34m]\u001b[0m\u001b[0;34m)\u001b[0m\u001b[0;34m.\u001b[0m\u001b[0minv\u001b[0m\u001b[0;34m(\u001b[0m\u001b[0;34m)\u001b[0m\u001b[0;34m)\u001b[0m\u001b[0;34m\u001b[0m\u001b[0;34m\u001b[0m\u001b[0m\n\u001b[0m",
            "\u001b[0;32m/usr/local/lib/python3.7/dist-packages/sympy/matrices/matrices.py\u001b[0m in \u001b[0;36minv\u001b[0;34m(self, method, iszerofunc, try_block_diag)\u001b[0m\n\u001b[1;32m   2158\u001b[0m     \u001b[0;32mdef\u001b[0m \u001b[0minv\u001b[0m\u001b[0;34m(\u001b[0m\u001b[0mself\u001b[0m\u001b[0;34m,\u001b[0m \u001b[0mmethod\u001b[0m\u001b[0;34m=\u001b[0m\u001b[0;32mNone\u001b[0m\u001b[0;34m,\u001b[0m \u001b[0miszerofunc\u001b[0m\u001b[0;34m=\u001b[0m\u001b[0m_iszero\u001b[0m\u001b[0;34m,\u001b[0m \u001b[0mtry_block_diag\u001b[0m\u001b[0;34m=\u001b[0m\u001b[0;32mFalse\u001b[0m\u001b[0;34m)\u001b[0m\u001b[0;34m:\u001b[0m\u001b[0;34m\u001b[0m\u001b[0;34m\u001b[0m\u001b[0m\n\u001b[1;32m   2159\u001b[0m         return _inv(self, method=method, iszerofunc=iszerofunc,\n\u001b[0;32m-> 2160\u001b[0;31m                 try_block_diag=try_block_diag)\n\u001b[0m\u001b[1;32m   2161\u001b[0m \u001b[0;34m\u001b[0m\u001b[0m\n\u001b[1;32m   2162\u001b[0m     \u001b[0;32mdef\u001b[0m \u001b[0mconnected_components\u001b[0m\u001b[0;34m(\u001b[0m\u001b[0mself\u001b[0m\u001b[0;34m)\u001b[0m\u001b[0;34m:\u001b[0m\u001b[0;34m\u001b[0m\u001b[0;34m\u001b[0m\u001b[0m\n",
            "\u001b[0;32m/usr/local/lib/python3.7/dist-packages/sympy/matrices/inverse.py\u001b[0m in \u001b[0;36m_inv\u001b[0;34m(M, method, iszerofunc, try_block_diag)\u001b[0m\n\u001b[1;32m    457\u001b[0m \u001b[0;34m\u001b[0m\u001b[0m\n\u001b[1;32m    458\u001b[0m     \u001b[0;32mif\u001b[0m \u001b[0mmethod\u001b[0m \u001b[0;34m==\u001b[0m \u001b[0;34m\"GE\"\u001b[0m\u001b[0;34m:\u001b[0m\u001b[0;34m\u001b[0m\u001b[0;34m\u001b[0m\u001b[0m\n\u001b[0;32m--> 459\u001b[0;31m         \u001b[0mrv\u001b[0m \u001b[0;34m=\u001b[0m \u001b[0mM\u001b[0m\u001b[0;34m.\u001b[0m\u001b[0minverse_GE\u001b[0m\u001b[0;34m(\u001b[0m\u001b[0miszerofunc\u001b[0m\u001b[0;34m=\u001b[0m\u001b[0miszerofunc\u001b[0m\u001b[0;34m)\u001b[0m\u001b[0;34m\u001b[0m\u001b[0;34m\u001b[0m\u001b[0m\n\u001b[0m\u001b[1;32m    460\u001b[0m     \u001b[0;32melif\u001b[0m \u001b[0mmethod\u001b[0m \u001b[0;34m==\u001b[0m \u001b[0;34m\"LU\"\u001b[0m\u001b[0;34m:\u001b[0m\u001b[0;34m\u001b[0m\u001b[0;34m\u001b[0m\u001b[0m\n\u001b[1;32m    461\u001b[0m         \u001b[0mrv\u001b[0m \u001b[0;34m=\u001b[0m \u001b[0mM\u001b[0m\u001b[0;34m.\u001b[0m\u001b[0minverse_LU\u001b[0m\u001b[0;34m(\u001b[0m\u001b[0miszerofunc\u001b[0m\u001b[0;34m=\u001b[0m\u001b[0miszerofunc\u001b[0m\u001b[0;34m)\u001b[0m\u001b[0;34m\u001b[0m\u001b[0;34m\u001b[0m\u001b[0m\n",
            "\u001b[0;32m/usr/local/lib/python3.7/dist-packages/sympy/matrices/matrices.py\u001b[0m in \u001b[0;36minverse_GE\u001b[0;34m(self, iszerofunc)\u001b[0m\n\u001b[1;32m   2142\u001b[0m \u001b[0;34m\u001b[0m\u001b[0m\n\u001b[1;32m   2143\u001b[0m     \u001b[0;32mdef\u001b[0m \u001b[0minverse_GE\u001b[0m\u001b[0;34m(\u001b[0m\u001b[0mself\u001b[0m\u001b[0;34m,\u001b[0m \u001b[0miszerofunc\u001b[0m\u001b[0;34m=\u001b[0m\u001b[0m_iszero\u001b[0m\u001b[0;34m)\u001b[0m\u001b[0;34m:\u001b[0m\u001b[0;34m\u001b[0m\u001b[0;34m\u001b[0m\u001b[0m\n\u001b[0;32m-> 2144\u001b[0;31m         \u001b[0;32mreturn\u001b[0m \u001b[0m_inv_GE\u001b[0m\u001b[0;34m(\u001b[0m\u001b[0mself\u001b[0m\u001b[0;34m,\u001b[0m \u001b[0miszerofunc\u001b[0m\u001b[0;34m=\u001b[0m\u001b[0miszerofunc\u001b[0m\u001b[0;34m)\u001b[0m\u001b[0;34m\u001b[0m\u001b[0;34m\u001b[0m\u001b[0m\n\u001b[0m\u001b[1;32m   2145\u001b[0m \u001b[0;34m\u001b[0m\u001b[0m\n\u001b[1;32m   2146\u001b[0m     \u001b[0;32mdef\u001b[0m \u001b[0minverse_LU\u001b[0m\u001b[0;34m(\u001b[0m\u001b[0mself\u001b[0m\u001b[0;34m,\u001b[0m \u001b[0miszerofunc\u001b[0m\u001b[0;34m=\u001b[0m\u001b[0m_iszero\u001b[0m\u001b[0;34m)\u001b[0m\u001b[0;34m:\u001b[0m\u001b[0;34m\u001b[0m\u001b[0;34m\u001b[0m\u001b[0m\n",
            "\u001b[0;32m/usr/local/lib/python3.7/dist-packages/sympy/matrices/inverse.py\u001b[0m in \u001b[0;36m_inv_GE\u001b[0;34m(M, iszerofunc)\u001b[0m\n\u001b[1;32m    243\u001b[0m \u001b[0;34m\u001b[0m\u001b[0m\n\u001b[1;32m    244\u001b[0m     \u001b[0;32mif\u001b[0m \u001b[0many\u001b[0m\u001b[0;34m(\u001b[0m\u001b[0miszerofunc\u001b[0m\u001b[0;34m(\u001b[0m\u001b[0mred\u001b[0m\u001b[0;34m[\u001b[0m\u001b[0mj\u001b[0m\u001b[0;34m,\u001b[0m \u001b[0mj\u001b[0m\u001b[0;34m]\u001b[0m\u001b[0;34m)\u001b[0m \u001b[0;32mfor\u001b[0m \u001b[0mj\u001b[0m \u001b[0;32min\u001b[0m \u001b[0mrange\u001b[0m\u001b[0;34m(\u001b[0m\u001b[0mred\u001b[0m\u001b[0;34m.\u001b[0m\u001b[0mrows\u001b[0m\u001b[0;34m)\u001b[0m\u001b[0;34m)\u001b[0m\u001b[0;34m:\u001b[0m\u001b[0;34m\u001b[0m\u001b[0;34m\u001b[0m\u001b[0m\n\u001b[0;32m--> 245\u001b[0;31m         \u001b[0;32mraise\u001b[0m \u001b[0mNonInvertibleMatrixError\u001b[0m\u001b[0;34m(\u001b[0m\u001b[0;34m\"Matrix det == 0; not invertible.\"\u001b[0m\u001b[0;34m)\u001b[0m\u001b[0;34m\u001b[0m\u001b[0;34m\u001b[0m\u001b[0m\n\u001b[0m\u001b[1;32m    246\u001b[0m \u001b[0;34m\u001b[0m\u001b[0m\n\u001b[1;32m    247\u001b[0m     \u001b[0;32mreturn\u001b[0m \u001b[0mM\u001b[0m\u001b[0;34m.\u001b[0m\u001b[0m_new\u001b[0m\u001b[0;34m(\u001b[0m\u001b[0mred\u001b[0m\u001b[0;34m[\u001b[0m\u001b[0;34m:\u001b[0m\u001b[0;34m,\u001b[0m \u001b[0mbig\u001b[0m\u001b[0;34m.\u001b[0m\u001b[0mrows\u001b[0m\u001b[0;34m:\u001b[0m\u001b[0;34m]\u001b[0m\u001b[0;34m)\u001b[0m\u001b[0;34m\u001b[0m\u001b[0;34m\u001b[0m\u001b[0m\n",
            "\u001b[0;31mNonInvertibleMatrixError\u001b[0m: Matrix det == 0; not invertible."
          ]
        }
      ]
    },
    {
      "cell_type": "markdown",
      "metadata": {
        "id": "gGrHywXKuiD0"
      },
      "source": [
        "상기와 같이, sympy에서 inverse를 구할 때에도 전제 조건이 성립되어야 함을 알 수 있다."
      ]
    },
    {
      "cell_type": "code",
      "metadata": {
        "colab": {
          "base_uri": "https://localhost:8080/",
          "height": 78
        },
        "id": "vDAG_f7RwXDk",
        "outputId": "9df9a82c-7fa0-4758-bda1-cd0f2fc0d45b"
      },
      "source": [
        "eye(3).inv()"
      ],
      "execution_count": 27,
      "outputs": [
        {
          "output_type": "execute_result",
          "data": {
            "text/latex": "$\\displaystyle \\left[\\begin{matrix}1 & 0 & 0\\\\0 & 1 & 0\\\\0 & 0 & 1\\end{matrix}\\right]$",
            "text/plain": [
              "⎡1  0  0⎤\n",
              "⎢       ⎥\n",
              "⎢0  1  0⎥\n",
              "⎢       ⎥\n",
              "⎣0  0  1⎦"
            ]
          },
          "metadata": {},
          "execution_count": 27
        }
      ]
    },
    {
      "cell_type": "code",
      "metadata": {
        "colab": {
          "base_uri": "https://localhost:8080/",
          "height": 78
        },
        "id": "PKm8eG3nww50",
        "outputId": "5efc425c-891b-4b2e-f125-754e28282149"
      },
      "source": [
        "Matrix([[1,2,3],[4,5,2],[2,3,1]]).inv()"
      ],
      "execution_count": 29,
      "outputs": [
        {
          "output_type": "execute_result",
          "data": {
            "text/latex": "$\\displaystyle \\left[\\begin{matrix}- \\frac{1}{5} & \\frac{7}{5} & - \\frac{11}{5}\\\\0 & -1 & 2\\\\\\frac{2}{5} & \\frac{1}{5} & - \\frac{3}{5}\\end{matrix}\\right]$",
            "text/plain": [
              "⎡-1/5  7/5  -11/5⎤\n",
              "⎢                ⎥\n",
              "⎢ 0    -1     2  ⎥\n",
              "⎢                ⎥\n",
              "⎣2/5   1/5  -3/5 ⎦"
            ]
          },
          "metadata": {},
          "execution_count": 29
        }
      ]
    },
    {
      "cell_type": "code",
      "metadata": {
        "colab": {
          "base_uri": "https://localhost:8080/",
          "height": 38
        },
        "id": "B3CTbyqv4a7W",
        "outputId": "034daa67-cb66-4e35-8759-8d436e501d8d"
      },
      "source": [
        "A = Matrix([['a', 'b'], ['c', 'd']])\n",
        "A.det()"
      ],
      "execution_count": 54,
      "outputs": [
        {
          "output_type": "execute_result",
          "data": {
            "image/png": "[encoded data removed]",
            "text/latex": "$\\displaystyle a d - b c$",
            "text/plain": [
              "a⋅d - b⋅c"
            ]
          },
          "metadata": {},
          "execution_count": 54
        }
      ]
    },
    {
      "cell_type": "code",
      "metadata": {
        "colab": {
          "base_uri": "https://localhost:8080/",
          "height": 38
        },
        "id": "tQQ39oOr4Pjb",
        "outputId": "ca040a33-4f3b-47df-fabf-c6de4c98c70e"
      },
      "source": [
        "A = Matrix(3,3, symbols('a:3:3'))\n",
        "A.det()"
      ],
      "execution_count": 53,
      "outputs": [
        {
          "output_type": "execute_result",
          "data": {
            "image/png": "[encoded data removed]",
            "text/latex": "$\\displaystyle a_{00} a_{11} a_{22} - a_{00} a_{12} a_{21} - a_{01} a_{10} a_{22} + a_{01} a_{12} a_{20} + a_{02} a_{10} a_{21} - a_{02} a_{11} a_{20}$",
            "text/plain": [
              "a₀₀⋅a₁₁⋅a₂₂ - a₀₀⋅a₁₂⋅a₂₁ - a₀₁⋅a₁₀⋅a₂₂ + a₀₁⋅a₁₂⋅a₂₀ + a₀₂⋅a₁₀⋅a₂₁ - a₀₂⋅a₁₁⋅\n",
              "a₂₀"
            ]
          },
          "metadata": {},
          "execution_count": 53
        }
      ]
    },
    {
      "cell_type": "code",
      "metadata": {
        "colab": {
          "base_uri": "https://localhost:8080/",
          "height": 37
        },
        "id": "RnxTqRR6uHoZ",
        "outputId": "22d538f7-5f2f-49a1-fa3f-becd3a45c497"
      },
      "source": [
        "Matrix([[1,0,1], [2,-1,3], [4,3,2]]).det()"
      ],
      "execution_count": 30,
      "outputs": [
        {
          "output_type": "execute_result",
          "data": {
            "image/png": "[encoded data removed]",
            "text/latex": "$\\displaystyle -1$",
            "text/plain": [
              "-1"
            ]
          },
          "metadata": {},
          "execution_count": 30
        }
      ]
    },
    {
      "cell_type": "markdown",
      "metadata": {
        "id": "ONUo8Itf5DAa"
      },
      "source": [
        "[github | sympy | determinants](https://github.com/sympy/sympy/blob/master/sympy/matrices/expressions/determinant.py)"
      ]
    },
    {
      "cell_type": "markdown",
      "metadata": {
        "id": "WOrVJ9sa59EC"
      },
      "source": [
        "Draw the two pictures in two planes for the equations :\n",
        "\n",
        "$$x−2y=0$$\n",
        "$$x+y=6$$"
      ]
    },
    {
      "cell_type": "code",
      "metadata": {
        "colab": {
          "base_uri": "https://localhost:8080/"
        },
        "id": "5cozhhK4stc_",
        "outputId": "08727dc9-4f8a-4825-bf16-f5543f194843"
      },
      "source": [
        "eq1 = Eq(X-2*Y, 0)\n",
        "eq2 = Eq(X+Y, 6)\n",
        "print(eq1)\n",
        "print(eq2)\n",
        "print(solve([eq1, eq2],[X,Y]))\n",
        "\n",
        "M = Matrix([[1,-2],[1,1]])"
      ],
      "execution_count": 37,
      "outputs": [
        {
          "output_type": "stream",
          "name": "stdout",
          "text": [
            "Eq(x - 2*y, 0)\n",
            "Eq(x + y, 6)\n",
            "{x: 4, y: 2}\n"
          ]
        }
      ]
    },
    {
      "cell_type": "code",
      "metadata": {
        "id": "M2WEcdFI6jFo"
      },
      "source": [
        "# solve(eq1, [X,Y])\n",
        "p1, p2 = Line(eq1.args[0]-eq1.args[1]).args\n",
        "p3, p4 = Line(eq2.args[0]-eq2.args[1]).args"
      ],
      "execution_count": 73,
      "outputs": []
    },
    {
      "cell_type": "code",
      "metadata": {
        "colab": {
          "base_uri": "https://localhost:8080/",
          "height": 58
        },
        "id": "b8cWFHYo8Mgj",
        "outputId": "965aa456-ae58-4109-f330-6ece7b376281"
      },
      "source": [
        "t = \n",
        "Line(p1,p2).arbitrary_point()\n",
        "\n",
        "# def subs_point(specific_line, )"
      ],
      "execution_count": 74,
      "outputs": [
        {
          "output_type": "execute_result",
          "data": {
            "image/png": "[encoded data removed]",
            "text/latex": "$\\displaystyle Point2D\\left(t, \\frac{t}{2}\\right)$",
            "text/plain": [
              "Point2D(t, t/2)"
            ]
          },
          "metadata": {},
          "execution_count": 74
        }
      ]
    },
    {
      "cell_type": "markdown",
      "metadata": {
        "id": "mt5oaWMH3CQI"
      },
      "source": [
        "## rows & columns"
      ]
    },
    {
      "cell_type": "code",
      "metadata": {
        "colab": {
          "base_uri": "https://localhost:8080/",
          "height": 38
        },
        "id": "efWgf44HqmWy",
        "outputId": "75e553d2-2119-433e-8b7f-7f77760c665d"
      },
      "source": [
        "M.row(0)"
      ],
      "execution_count": 40,
      "outputs": [
        {
          "output_type": "execute_result",
          "data": {
            "text/latex": "$\\displaystyle \\left[\\begin{matrix}1 & -2\\end{matrix}\\right]$",
            "text/plain": [
              "[1  -2]"
            ]
          },
          "metadata": {},
          "execution_count": 40
        }
      ]
    },
    {
      "cell_type": "code",
      "metadata": {
        "colab": {
          "base_uri": "https://localhost:8080/",
          "height": 58
        },
        "id": "ewH5WK1c14Kw",
        "outputId": "24ac7dd5-2378-42b7-cbf6-5448eeb2f769"
      },
      "source": [
        "M.col(-1)"
      ],
      "execution_count": 41,
      "outputs": [
        {
          "output_type": "execute_result",
          "data": {
            "text/latex": "$\\displaystyle \\left[\\begin{matrix}-2\\\\1\\end{matrix}\\right]$",
            "text/plain": [
              "⎡-2⎤\n",
              "⎢  ⎥\n",
              "⎣1 ⎦"
            ]
          },
          "metadata": {},
          "execution_count": 41
        }
      ]
    },
    {
      "cell_type": "code",
      "metadata": {
        "id": "yTp5qOzE16Mr"
      },
      "source": [
        "M.col_del(0)"
      ],
      "execution_count": 42,
      "outputs": []
    },
    {
      "cell_type": "code",
      "metadata": {
        "colab": {
          "base_uri": "https://localhost:8080/",
          "height": 58
        },
        "id": "Lg0nQjOR2Dv0",
        "outputId": "7d0df3cd-9ef6-42bd-af3b-3f026ee46762"
      },
      "source": [
        "M"
      ],
      "execution_count": 43,
      "outputs": [
        {
          "output_type": "execute_result",
          "data": {
            "text/latex": "$\\displaystyle \\left[\\begin{matrix}-2\\\\1\\end{matrix}\\right]$",
            "text/plain": [
              "⎡-2⎤\n",
              "⎢  ⎥\n",
              "⎣1 ⎦"
            ]
          },
          "metadata": {},
          "execution_count": 43
        }
      ]
    },
    {
      "cell_type": "code",
      "metadata": {
        "colab": {
          "base_uri": "https://localhost:8080/",
          "height": 58
        },
        "id": "_DDPDD9L2E43",
        "outputId": "db1afeb0-8235-48e6-c2f1-fe249ffdd5f8"
      },
      "source": [
        "M.col_insert(0, Matrix([1,1]))"
      ],
      "execution_count": 44,
      "outputs": [
        {
          "output_type": "execute_result",
          "data": {
            "text/latex": "$\\displaystyle \\left[\\begin{matrix}1 & -2\\\\1 & 1\\end{matrix}\\right]$",
            "text/plain": [
              "⎡1  -2⎤\n",
              "⎢     ⎥\n",
              "⎣1  1 ⎦"
            ]
          },
          "metadata": {},
          "execution_count": 44
        }
      ]
    },
    {
      "cell_type": "code",
      "metadata": {
        "colab": {
          "base_uri": "https://localhost:8080/",
          "height": 58
        },
        "id": "S21sgyAT2P_z",
        "outputId": "ea4bfd3f-6259-4224-8d5c-92a6c2ced388"
      },
      "source": [
        "M"
      ],
      "execution_count": 45,
      "outputs": [
        {
          "output_type": "execute_result",
          "data": {
            "text/latex": "$\\displaystyle \\left[\\begin{matrix}-2\\\\1\\end{matrix}\\right]$",
            "text/plain": [
              "⎡-2⎤\n",
              "⎢  ⎥\n",
              "⎣1 ⎦"
            ]
          },
          "metadata": {},
          "execution_count": 45
        }
      ]
    },
    {
      "cell_type": "code",
      "metadata": {
        "colab": {
          "base_uri": "https://localhost:8080/",
          "height": 58
        },
        "id": "MoYviBNx2W3m",
        "outputId": "78e092d5-eb76-4984-b05b-366499fc128e"
      },
      "source": [
        "M = M.col_insert(0, Matrix([1,1]))\n",
        "M"
      ],
      "execution_count": 46,
      "outputs": [
        {
          "output_type": "execute_result",
          "data": {
            "text/latex": "$\\displaystyle \\left[\\begin{matrix}1 & -2\\\\1 & 1\\end{matrix}\\right]$",
            "text/plain": [
              "⎡1  -2⎤\n",
              "⎢     ⎥\n",
              "⎣1  1 ⎦"
            ]
          },
          "metadata": {},
          "execution_count": 46
        }
      ]
    },
    {
      "cell_type": "code",
      "metadata": {
        "id": "oDC3wVI92os_"
      },
      "source": [
        "M.row_del(1)"
      ],
      "execution_count": 47,
      "outputs": []
    },
    {
      "cell_type": "code",
      "metadata": {
        "colab": {
          "base_uri": "https://localhost:8080/",
          "height": 38
        },
        "id": "W4grP5_N2wYq",
        "outputId": "ee5e3616-711e-43bb-9e92-e98a0d8ae8e0"
      },
      "source": [
        "M"
      ],
      "execution_count": 48,
      "outputs": [
        {
          "output_type": "execute_result",
          "data": {
            "text/latex": "$\\displaystyle \\left[\\begin{matrix}1 & -2\\end{matrix}\\right]$",
            "text/plain": [
              "[1  -2]"
            ]
          },
          "metadata": {},
          "execution_count": 48
        }
      ]
    },
    {
      "cell_type": "code",
      "metadata": {
        "colab": {
          "base_uri": "https://localhost:8080/",
          "height": 280
        },
        "id": "cTS229FK24NE",
        "outputId": "db3195af-d8a0-4c1b-c0c4-1e88534610b7"
      },
      "source": [
        "M.row_insert(1, Matrix([1,1]))"
      ],
      "execution_count": 50,
      "outputs": [
        {
          "output_type": "error",
          "ename": "ShapeError",
          "evalue": "ignored",
          "traceback": [
            "\u001b[0;31m---------------------------------------------------------------------------\u001b[0m",
            "\u001b[0;31mShapeError\u001b[0m                                Traceback (most recent call last)",
            "\u001b[0;32m<ipython-input-50-80a2813c81da>\u001b[0m in \u001b[0;36m<module>\u001b[0;34m()\u001b[0m\n\u001b[0;32m----> 1\u001b[0;31m \u001b[0mM\u001b[0m\u001b[0;34m.\u001b[0m\u001b[0mrow_insert\u001b[0m\u001b[0;34m(\u001b[0m\u001b[0;36m1\u001b[0m\u001b[0;34m,\u001b[0m \u001b[0mMatrix\u001b[0m\u001b[0;34m(\u001b[0m\u001b[0;34m[\u001b[0m\u001b[0;36m1\u001b[0m\u001b[0;34m,\u001b[0m\u001b[0;36m1\u001b[0m\u001b[0;34m]\u001b[0m\u001b[0;34m)\u001b[0m\u001b[0;34m)\u001b[0m\u001b[0;34m\u001b[0m\u001b[0;34m\u001b[0m\u001b[0m\n\u001b[0m",
            "\u001b[0;32m/usr/local/lib/python3.7/dist-packages/sympy/matrices/common.py\u001b[0m in \u001b[0;36mrow_insert\u001b[0;34m(self, pos, other)\u001b[0m\n\u001b[1;32m    493\u001b[0m         \u001b[0;32mif\u001b[0m \u001b[0mself\u001b[0m\u001b[0;34m.\u001b[0m\u001b[0mcols\u001b[0m \u001b[0;34m!=\u001b[0m \u001b[0mother\u001b[0m\u001b[0;34m.\u001b[0m\u001b[0mcols\u001b[0m\u001b[0;34m:\u001b[0m\u001b[0;34m\u001b[0m\u001b[0;34m\u001b[0m\u001b[0m\n\u001b[1;32m    494\u001b[0m             raise ShapeError(\n\u001b[0;32m--> 495\u001b[0;31m                 \"`self` and `other` must have the same number of columns.\")\n\u001b[0m\u001b[1;32m    496\u001b[0m \u001b[0;34m\u001b[0m\u001b[0m\n\u001b[1;32m    497\u001b[0m         \u001b[0;32mreturn\u001b[0m \u001b[0mself\u001b[0m\u001b[0;34m.\u001b[0m\u001b[0m_eval_row_insert\u001b[0m\u001b[0;34m(\u001b[0m\u001b[0mpos\u001b[0m\u001b[0;34m,\u001b[0m \u001b[0mother\u001b[0m\u001b[0;34m)\u001b[0m\u001b[0;34m\u001b[0m\u001b[0;34m\u001b[0m\u001b[0m\n",
            "\u001b[0;31mShapeError\u001b[0m: `self` and `other` must have the same number of columns."
          ]
        }
      ]
    },
    {
      "cell_type": "code",
      "metadata": {
        "colab": {
          "base_uri": "https://localhost:8080/",
          "height": 58
        },
        "id": "lR45LDsg2w6I",
        "outputId": "d7d580c8-6533-4351-e52b-2a5b2809b347"
      },
      "source": [
        "M.row_insert(1, Matrix([[1,1]]))"
      ],
      "execution_count": 49,
      "outputs": [
        {
          "output_type": "execute_result",
          "data": {
            "text/latex": "$\\displaystyle \\left[\\begin{matrix}1 & -2\\\\1 & 1\\end{matrix}\\right]$",
            "text/plain": [
              "⎡1  -2⎤\n",
              "⎢     ⎥\n",
              "⎣1  1 ⎦"
            ]
          },
          "metadata": {},
          "execution_count": 49
        }
      ]
    },
    {
      "cell_type": "code",
      "metadata": {
        "colab": {
          "base_uri": "https://localhost:8080/",
          "height": 38
        },
        "id": "m7OgeL-m28hI",
        "outputId": "238c7ff0-5b76-4348-dfbc-2c71f8789307"
      },
      "source": [
        "M"
      ],
      "execution_count": 51,
      "outputs": [
        {
          "output_type": "execute_result",
          "data": {
            "text/latex": "$\\displaystyle \\left[\\begin{matrix}1 & -2\\end{matrix}\\right]$",
            "text/plain": [
              "[1  -2]"
            ]
          },
          "metadata": {},
          "execution_count": 51
        }
      ]
    },
    {
      "cell_type": "code",
      "metadata": {
        "colab": {
          "base_uri": "https://localhost:8080/",
          "height": 58
        },
        "id": "AlladyrR3IKR",
        "outputId": "f9c7fea9-cd3c-4a96-d9b1-6b1b71c143e0"
      },
      "source": [
        "M = M.row_insert(1, Matrix([[1,1]]))\n",
        "M"
      ],
      "execution_count": 52,
      "outputs": [
        {
          "output_type": "execute_result",
          "data": {
            "text/latex": "$\\displaystyle \\left[\\begin{matrix}1 & -2\\\\1 & 1\\end{matrix}\\right]$",
            "text/plain": [
              "⎡1  -2⎤\n",
              "⎢     ⎥\n",
              "⎣1  1 ⎦"
            ]
          },
          "metadata": {},
          "execution_count": 52
        }
      ]
    },
    {
      "cell_type": "markdown",
      "metadata": {
        "id": "v9ds2v5O2RJJ"
      },
      "source": [
        ""
      ]
    },
    {
      "cell_type": "markdown",
      "metadata": {
        "id": "RrULHaCAqoE2"
      },
      "source": [
        "# Elimination"
      ]
    },
    {
      "cell_type": "code",
      "metadata": {
        "colab": {
          "base_uri": "https://localhost:8080/",
          "height": 78
        },
        "id": "obtcmIEjt2Xc",
        "outputId": "a4faab7b-2fca-4d78-c399-7178d5c1073b"
      },
      "source": [
        "# triangular matrix(reduced row echelon form)\n",
        "Matrix([[1,0,1], [2,-1,3], [4,3,2]]).rref()"
      ],
      "execution_count": 31,
      "outputs": [
        {
          "output_type": "execute_result",
          "data": {
            "text/latex": "$\\displaystyle \\left( \\left[\\begin{matrix}1 & 0 & 0\\\\0 & 1 & 0\\\\0 & 0 & 1\\end{matrix}\\right], \\  \\left( 0, \\  1, \\  2\\right)\\right)$",
            "text/plain": [
              "⎛⎡1  0  0⎤           ⎞\n",
              "⎜⎢       ⎥           ⎟\n",
              "⎜⎢0  1  0⎥, (0, 1, 2)⎟\n",
              "⎜⎢       ⎥           ⎟\n",
              "⎝⎣0  0  1⎦           ⎠"
            ]
          },
          "metadata": {},
          "execution_count": 31
        }
      ]
    },
    {
      "cell_type": "markdown",
      "metadata": {
        "id": "8imVTO9S3zNO"
      },
      "source": [
        "## pertubation"
      ]
    },
    {
      "cell_type": "code",
      "metadata": {
        "id": "xSwCcHooJFDU"
      },
      "source": [
        ""
      ],
      "execution_count": null,
      "outputs": []
    },
    {
      "cell_type": "code",
      "metadata": {
        "id": "IfhxjLk33e-C"
      },
      "source": [
        "# non-sigular \n",
        "\n",
        "\n",
        "M.row_swap(1,2)"
      ],
      "execution_count": null,
      "outputs": []
    },
    {
      "cell_type": "code",
      "metadata": {
        "id": "bFqHyvcYqru6"
      },
      "source": [
        ""
      ],
      "execution_count": 4,
      "outputs": []
    },
    {
      "cell_type": "markdown",
      "metadata": {
        "id": "QtB4IZstqr4O"
      },
      "source": [
        "# ...\n"
      ]
    },
    {
      "cell_type": "code",
      "metadata": {
        "id": "JeQZSCZjja7j"
      },
      "source": [
        "\n",
        "\n",
        "\n",
        "J_22 = MatrixSymbol('J_22', 3, 3)\n",
        "COV_b = Matrix([[2,1,1],[1,2,1],[1,1,2]])\n",
        "(COV_b + J_22) * COV_b"
      ],
      "execution_count": null,
      "outputs": []
    },
    {
      "cell_type": "markdown",
      "metadata": {
        "id": "tENE8RsPiBO1"
      },
      "source": [
        "[ref) Kaggle | geo](https://www.kaggle.com/stassl/what-can-we-learn-from-beating-geo-others)"
      ]
    }
  ]
}